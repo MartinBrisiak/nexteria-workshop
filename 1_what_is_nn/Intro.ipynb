{
 "cells": [
  {
   "cell_type": "markdown",
   "metadata": {},
   "source": [
    "# Neural Netoworks"
   ]
  },
  {
   "cell_type": "markdown",
   "metadata": {},
   "source": [
    "Neural networks are just one example of group of computer algorithms called machine learning. Machine learning allows computers to learn from data - to find out patterns and search for hidden insights. They are extremely usefull in cases, where we ourselves cannot create an exact algorithm. Instead the computers are learning themselves from examples."
   ]
  },
  {
   "cell_type": "markdown",
   "metadata": {},
   "source": [
    "<img src=\"./intro.png\"/>\n",
    "<center>Image source: https://isaacchanghau.github.io/post/activation_functions</center>"
   ]
  },
  {
   "cell_type": "markdown",
   "metadata": {},
   "source": [
    "### Simple neuron equation\n",
    "$$\n",
    "Y = W*X + b\n",
    "$$"
   ]
  },
  {
   "cell_type": "markdown",
   "metadata": {},
   "source": [
    "# Activation Function"
   ]
  },
  {
   "cell_type": "markdown",
   "metadata": {},
   "source": [
    "Activation functions helps us to \"squash\" neuron outputs to more safer level. There are different activation function types. We will be talking about:\n",
    "- sigmoid\n",
    "- softmax\n",
    "- relu"
   ]
  },
  {
   "cell_type": "markdown",
   "metadata": {},
   "source": [
    "### Sigmoid\n",
    "The sigmoid function is a continuous equivalent of our true / false function, used when you need this kind of outcome from the neural network or its layer. It gives you a probability of the outcome being true or false.\n",
    "$$\n",
    "  f(x) = \\dfrac{1}{1 + e^{-x}}\n",
    "$$"
   ]
  },
  {
   "cell_type": "code",
   "execution_count": 15,
   "metadata": {},
   "outputs": [
    {
     "data": {
      "image/png": "[encoded data removed]",
      "text/plain": [
       "<Figure size 432x288 with 1 Axes>"
      ]
     },
     "metadata": {},
     "output_type": "display_data"
    }
   ],
   "source": [
    "import matplotlib.pyplot as plt\n",
    "import numpy as np\n",
    "import math\n",
    "%matplotlib inline\n",
    "\n",
    "def sigmoid(x):\n",
    "    return 1 / (1 + math.exp(-x))\n",
    "\n",
    "x = np.arange(-6, 6, .01)\n",
    "S = [sigmoid(i) for i in x]\n",
    "plt.plot(x, S, color='purple', lw=2)\n",
    "plt.show()"
   ]
  },
  {
   "cell_type": "markdown",
   "metadata": {},
   "source": [
    "### Softmax function\n",
    "\n",
    "Another very common function, which is typically used in the output layers of the neural network - especially for classification tasks. Imagine that you have 3 outcomes from the neural networks (three perceptrons in the final layers). But the outcomes are real numbers, of any size (typically larger than 0). What softmax does is that it puts all the numbers into interval (0, 1), and that all the values together sum as 1. This allows you to treat the values as probabilities of the outcome. You can find the exact mathematical equation on the [internet](https://en.wikipedia.org/wiki/Softmax_function).\n",
    "\n",
    "So very simply put - if you have multiple classes as outcomes of your neural network, softmax is very likely your last activation function, because it gives you a probability for each output class\n",
    "\n",
    "$$\n",
    " Softmax\\Bigg(\\begin{vmatrix}\n",
    "  5 \\\\\n",
    "  7 \\\\\n",
    "  8\n",
    " \\end{vmatrix}\\Bigg) = \\begin{vmatrix}\n",
    "  0.25 \\\\\n",
    "  0.35 \\\\\n",
    "  0.4\\end{vmatrix}\n",
    "$$\n"
   ]
  },
  {
   "cell_type": "markdown",
   "metadata": {},
   "source": [
    "### RELU\n",
    "The ReLU (Rectifier) function returns either the maximum from (value, 0) - so for values less than 0, it returns 0. This function is commonly used in convolutional neural networks.\n",
    "\n",
    "We would like you to actually code this function - it is just a simple check whether the value is greater than 0, if so return the value, otherwise return 0."
   ]
  },
  {
   "cell_type": "code",
   "execution_count": null,
   "metadata": {},
   "outputs": [],
   "source": [
    "import matplotlib.pyplot as plt\n",
    "import numpy as np\n",
    "import math\n",
    "%matplotlib inline\n",
    "\n",
    "def relu(x):\n",
    "    # TODO write a relu function\n",
    "    return None\n",
    "\n",
    "# DO NOT CHANGE ANYTHING IN THIS CELL BELOW THIS COMMENT\n",
    "def test_relu():\n",
    "    assert relu(5) is 5\n",
    "    assert relu(-5) is 0\n",
    "test_relu()\n",
    "x = np.arange(-6, 6, .01)\n",
    "S = [relu(i) for i in x]\n",
    "plt.plot(x, S, color='purple', lw=2)\n",
    "plt.show()"
   ]
  },
  {
   "cell_type": "markdown",
   "metadata": {},
   "source": [
    "# Training and Validation\n",
    "When designing machine learning solutions, you typically go through series of steps:\n",
    "1. __Acquire data__\n",
    "  - You need to get the training data, they can be retreived from the Internet (there are many public sources of free datasets), or prepared specifically for your task. It is very important that you have rights to use the data for your task (yes GDPR, but also many other regulations), the data should be withouth bias and accuratelly representing your specific problem. Unfortunatelly, neural networks are models requiring large amounts of data, which is hard to get.\n",
    "2. __Analyse data__\n",
    "  - Typically you are doing analysis of how the data are structured, what are the relations, and decide which features you should use. Here you can use visualisations, statistics and other methods to learn more about the data.\n",
    "3. __Label the data__\n",
    "  - In case your data is not labeled, you need to label them, which is very cumbersome task. Unfortunatelly for most of the problems out there, there are no labeled data. Though there are specific machine learning algorithms, which also work with unlabeled data.\n",
    "4. __Preprocess the data__\n",
    "  - This can include any preprocessing you can think about - encoding into numbers, scaling, denoising, data augumentation, creating artificial features etc. Very often you are spending most of the time in machine learning right here - preprocessing your data.\n",
    "5. __Split the data__\n",
    "  - While training the machine learning model, you iterate through the data and adjust it to match the expected results. This brings in one large danger - overfitting. It means that your model is so adjusted to match the training data, that it cannot match anything else. It has learned the training data completely. To avoid this, you should split your data into multiple sets:\n",
    "    - training set - used to train the model\n",
    "    - validation set - used to test the model while training, and to pick best model\n",
    "    - testing set - used to assess the model performance on completely unseen data\n",
    "6. __Define your machine learning model__\n",
    "  - Here you can e.g. design the neural network layers and decide on their parameters (so called hyperparameters). You can also choose different machine learning models, for many tasks there are better models than neural networks. You may need also to compile your model (if it is a neural network), and decide on the optimizer you would like to use - this is the function that optimizes the model to match the data.\n",
    "7. __Train the model__\n",
    "  - This is task which is typically left to computers - just iterate, iterate, iterate, iterate ... they do this best\n",
    "8. __Assess the model performance__\n",
    "  - Once you have your model, you want to see how good it is - that's why you have the testing data set prepared.\n",
    "9. __Optimize the model__\n",
    "  - When you are not satisfied with your model performance, you typically have to go again through the steps 1. to 8. You may get better data for the training, have different preprocessing, change the model completely or just the hyperparameters (there are methods to do automatized hyperparameter tunning). You may also take the model and use different frameworks or skip some weights to have better performance. But in lot of cases, optimization of the model requires lot of iterations, try and errors.\n",
    "10. __Deploy your model__\n",
    "  - If you want to use your model, you need to deploy it. This depends on your needs, but here are some examples what you might do\n",
    "      - it may be packaged into an Android application to run on a mobile phone\n",
    "      - deployed as a Rest service on your server, called from frontend application,\n",
    "      - executed inside a docker container on a Kubernetes cluster, automatically scaled for best performance (see for example https://www.kubeflow.org/)\n",
    "      - It may be served directly by your cloud infrastructure\n",
    "11. __Monitor and improve your model__\n",
    "  - In production, you should monitor how your model is performing (speed, accuracy, logging). You should use the production data to further improve the model. For example if it is a chatbot, you should improve it based on the questions which it cannot answer. \n",
    "<img src=\"./train-val-error.png\"/>\n",
    "<center>img. xy - training and validation error</center>"
   ]
  }
 ],
 "metadata": {
  "kernelspec": {
   "display_name": "notebooks",
   "language": "python",
   "name": "notebooks"
  },
  "language_info": {
   "codemirror_mode": {
    "name": "ipython",
    "version": 3
   },
   "file_extension": ".py",
   "mimetype": "text/x-python",
   "name": "python",
   "nbconvert_exporter": "python",
   "pygments_lexer": "ipython3",
   "version": "3.6.5"
  }
 },
 "nbformat": 4,
 "nbformat_minor": 2
}
